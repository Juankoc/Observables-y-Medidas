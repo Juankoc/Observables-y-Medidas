{
 "cells": [
  {
   "cell_type": "markdown",
   "id": "1b9eb707-7c83-4f97-ba13-0231912c8306",
   "metadata": {},
   "source": [
    "# Sistema cuántico\n",
    "\n",
    "## El sistema consiste en una partícula confinada a un conjunto discreto de posiciones en una línea. El simulador debe permitir especificar el número de posiciones y un vector ket de estado asignando las amplitudes.\n",
    "\n",
    "1. El sistema debe calcular la probabilidad de encontrarlo en una posición en particular.\n",
    "\n",
    "2. El sistema si se le da otro vector Ket debe buscar la probabilidad de transitar del primer vector al segundo."
   ]
  },
  {
   "cell_type": "code",
   "execution_count": 1,
   "id": "36c6338e-7e0a-49a2-b34d-d3c14cadcce9",
   "metadata": {},
   "outputs": [
    {
     "name": "stdout",
     "output_type": "stream",
     "text": [
      "Probabilidad de encontrar la partícula en la posición 2: 0.5000\n",
      "Probabilidad de transición entre ket1 y ket2: 0.0000\n"
     ]
    },
    {
     "data": {
      "image/png": "[encoded data removed]",
      "text/plain": [
       "<Figure size 640x480 with 1 Axes>"
      ]
     },
     "metadata": {},
     "output_type": "display_data"
    }
   ],
   "source": [
    "import numpy as np\n",
    "import matplotlib.pyplot as plt\n",
    "\n",
    "def normalize_ket(ket):\n",
    "    norm = np.linalg.norm(ket)\n",
    "    if norm == 0:\n",
    "        raise ValueError(\"El vector ket no puede ser cero.\")\n",
    "    return ket / norm\n",
    "\n",
    "def probability_in_position(ket, position):\n",
    "    ket_normalized = normalize_ket(ket)\n",
    "    amplitude = ket_normalized[position]\n",
    "    return np.abs(amplitude)**2\n",
    "\n",
    "def transition_probability(ket1, ket2):\n",
    "    ket1_normalized = normalize_ket(ket1)\n",
    "    ket2_normalized = normalize_ket(ket2)\n",
    "    overlap = np.dot(np.conjugate(ket1_normalized), ket2_normalized)\n",
    "    return np.abs(overlap)**2\n",
    "\n",
    "def plot_probability_distribution(ket):\n",
    "    ket_normalized = normalize_ket(ket)\n",
    "    probabilities = np.abs(ket_normalized)**2\n",
    "    positions = np.arange(len(ket))\n",
    "    \n",
    "    plt.bar(positions, probabilities)\n",
    "    plt.xlabel('Posiciones')\n",
    "    plt.ylabel('Probabilidad')\n",
    "    plt.title('Distribución de probabilidad')\n",
    "    plt.show()\n",
    "\n",
    "n_positions = 5\n",
    "\n",
    "ket1 = np.array([1+0j, 0+0j, 1+0j, 0+0j, 0+0j])\n",
    "\n",
    "ket2 = np.array([0+0j, 1+0j, 0+0j, 1+0j, 0+0j])\n",
    "\n",
    "position = 2\n",
    "prob_pos = probability_in_position(ket1, position)\n",
    "print(f\"Probabilidad de encontrar la partícula en la posición {position}: {prob_pos:.4f}\")\n",
    "\n",
    "prob_trans = transition_probability(ket1, ket2)\n",
    "print(f\"Probabilidad de transición entre ket1 y ket2: {prob_trans:.4f}\")\n",
    "\n",
    "plot_probability_distribution(ket1)\n"
   ]
  },
  {
   "cell_type": "markdown",
   "id": "31e5711a",
   "metadata": {},
   "source": [
    "1. Amplitud de transición. El sistema puede recibir dos vectores y calcular la probabilidad de transitar de el uno al otro después de hacer la observación"
   ]
  },
  {
   "cell_type": "code",
   "execution_count": 2,
   "id": "0ac6aea9",
   "metadata": {},
   "outputs": [
    {
     "name": "stdout",
     "output_type": "stream",
     "text": [
      "Amplitud de transición: 0j\n",
      "Probabilidad de transición: 0.0000\n"
     ]
    }
   ],
   "source": [
    "import numpy as np\n",
    "\n",
    "def normalize_ket(ket):\n",
    "    norm = np.linalg.norm(ket)\n",
    "    if norm == 0:\n",
    "        raise ValueError(\"El vector ket no puede ser cero.\")\n",
    "    return ket / norm\n",
    "\n",
    "def transition_amplitude(ket1, ket2):\n",
    "    ket1_normalized = normalize_ket(ket1)\n",
    "    ket2_normalized = normalize_ket(ket2)\n",
    "    overlap = np.dot(np.conjugate(ket1_normalized), ket2_normalized)\n",
    "    return overlap\n",
    "\n",
    "def transition_probability(ket1, ket2):\n",
    "    amplitude = transition_amplitude(ket1, ket2)\n",
    "    return np.abs(amplitude)**2\n",
    "\n",
    "# Ejemplo\n",
    "ket1 = np.array([1+0j, 0+0j, 1+0j])\n",
    "ket2 = np.array([0+0j, 1+0j, 0+0j])\n",
    "\n",
    "amplitude = transition_amplitude(ket1, ket2)\n",
    "probability = transition_probability(ket1, ket2)\n",
    "print(f\"Amplitud de transición: {amplitude}\")\n",
    "print(f\"Probabilidad de transición: {probability:.4f}\")\n"
   ]
  },
  {
   "cell_type": "markdown",
   "id": "5c853b0b",
   "metadata": {},
   "source": [
    "2. Ahora con una matriz que describa un observable y un vector ket, el sistema revisa que la matriz sea hermitiana, y si lo es, calcula la media y la varianza del observable en el estado dado."
   ]
  },
  {
   "cell_type": "code",
   "execution_count": 3,
   "id": "9fea0c83",
   "metadata": {},
   "outputs": [
    {
     "name": "stdout",
     "output_type": "stream",
     "text": [
      "Media: (1.9999999999999996+0j)\n",
      "Varianza: (1.0000000000000009+0j)\n"
     ]
    }
   ],
   "source": [
    "import numpy as np\n",
    "\n",
    "def is_hermitian(matrix):\n",
    "    return np.allclose(matrix, np.conjugate(matrix.T))\n",
    "\n",
    "def observable_mean_and_variance(observable, ket):\n",
    "    if not is_hermitian(observable):\n",
    "        raise ValueError(\"La matriz no es hermitiana.\")\n",
    "    ket_normalized = normalize_ket(ket)\n",
    "    mean = np.vdot(ket_normalized, np.dot(observable, ket_normalized))\n",
    "    variance = np.vdot(ket_normalized, np.dot(observable @ observable, ket_normalized)) - mean**2\n",
    "    return mean, variance\n",
    "\n",
    "observable = np.array([[1, 0, 0], [0, 2, 0], [0, 0, 3]], dtype=complex)\n",
    "ket = np.array([1, 0, 1], dtype=complex)\n",
    "\n",
    "mean, variance = observable_mean_and_variance(observable, ket)\n",
    "print(f\"Media: {mean}\")\n",
    "print(f\"Varianza: {variance}\")\n"
   ]
  },
  {
   "cell_type": "markdown",
   "id": "182c2d83",
   "metadata": {},
   "source": [
    "3. El sistema calcula los valores propios del observable y la probabilidad de que el sistema transite a alguno de los vectores propios después de la observación."
   ]
  },
  {
   "cell_type": "code",
   "execution_count": 4,
   "id": "4a6233c5",
   "metadata": {},
   "outputs": [
    {
     "name": "stdout",
     "output_type": "stream",
     "text": [
      "Valores propios: [1. 3.]\n",
      "Probabilidades de transitar a los vectores propios: [np.float64(0.4999999999999999), np.float64(0.4999999999999999)]\n"
     ]
    }
   ],
   "source": [
    "import numpy as np\n",
    "\n",
    "def eigenvalues_and_probabilities(observable, ket):\n",
    "    if not is_hermitian(observable):\n",
    "        raise ValueError(\"La matriz no es hermitiana.\")\n",
    "    eigenvalues, eigenvectors = np.linalg.eigh(observable)\n",
    "    ket_normalized = normalize_ket(ket)\n",
    "    probabilities = [np.abs(np.vdot(eigenvector, ket_normalized))**2 for eigenvector in eigenvectors.T]\n",
    "    return eigenvalues, probabilities\n",
    "\n",
    "observable = np.array([[2, 1], [1, 2]], dtype=complex)\n",
    "ket = np.array([1, 0], dtype=complex)\n",
    "\n",
    "eigenvalues, probabilities = eigenvalues_and_probabilities(observable, ket)\n",
    "print(f\"Valores propios: {eigenvalues}\")\n",
    "print(f\"Probabilidades de transitar a los vectores propios: {probabilities}\")\n"
   ]
  },
  {
   "cell_type": "markdown",
   "id": "b364d4d6",
   "metadata": {},
   "source": [
    "4. Se considera la dinámica del sistema. Ahora con una serie de matrices Un el sistema calcula el estado final a partir de un estado inicial."
   ]
  },
  {
   "cell_type": "code",
   "execution_count": 5,
   "id": "31fd7f12",
   "metadata": {},
   "outputs": [
    {
     "name": "stdout",
     "output_type": "stream",
     "text": [
      "Estado final: [ 0.+0.0000000e+00j -1.+1.2246468e-16j]\n"
     ]
    }
   ],
   "source": [
    "import numpy as np\n",
    "\n",
    "def apply_unitary_matrices(U_series, initial_ket):\n",
    "    ket = normalize_ket(initial_ket)\n",
    "    for U in U_series:\n",
    "        ket = np.dot(U, ket)\n",
    "    return ket\n",
    "\n",
    "U1 = np.array([[0, 1], [1, 0]], dtype=complex)\n",
    "U2 = np.array([[1, 0], [0, np.exp(1j * np.pi)]], dtype=complex)\n",
    "U_series = [U1, U2]\n",
    "\n",
    "initial_ket = np.array([1, 0], dtype=complex)\n",
    "final_ket = apply_unitary_matrices(U_series, initial_ket)\n",
    "print(f\"Estado final: {final_ket}\")\n"
   ]
  },
  {
   "cell_type": "markdown",
   "id": "29562070",
   "metadata": {},
   "source": [
    "# 4.3.1"
   ]
  },
  {
   "cell_type": "code",
   "execution_count": 6,
   "id": "a947ca68",
   "metadata": {},
   "outputs": [
    {
     "name": "stdout",
     "output_type": "stream",
     "text": [
      "Nuevo estado tras aplicar Sx: [0.+0.j 1.+0.j]\n",
      "Probabilidad de seguir en spin up: 0.0000\n",
      "Probabilidad de cambiar a spin down: 1.0000\n"
     ]
    }
   ],
   "source": [
    "import numpy as np\n",
    "\n",
    "Sx = 0.5 * np.array([[0, 1], [1, 0]], dtype=complex)\n",
    "\n",
    "spin_up = np.array([1, 0], dtype=complex)\n",
    "\n",
    "new_state = np.dot(Sx, spin_up)\n",
    "\n",
    "new_state_normalized = new_state / np.linalg.norm(new_state)\n",
    "\n",
    "prob_spin_up = np.abs(np.vdot(spin_up, new_state_normalized))**2\n",
    "\n",
    "spin_down = np.array([0, 1], dtype=complex)\n",
    "prob_spin_down = np.abs(np.vdot(spin_down, new_state_normalized))**2\n",
    "\n",
    "print(f\"Nuevo estado tras aplicar Sx: {new_state_normalized}\")\n",
    "print(f\"Probabilidad de seguir en spin up: {prob_spin_up:.4f}\")\n",
    "print(f\"Probabilidad de cambiar a spin down: {prob_spin_down:.4f}\")\n"
   ]
  },
  {
   "cell_type": "markdown",
   "id": "77eaee86",
   "metadata": {},
   "source": [
    "# 4.3.2\n"
   ]
  },
  {
   "cell_type": "code",
   "execution_count": 7,
   "id": "6dbbde72",
   "metadata": {},
   "outputs": [
    {
     "name": "stdout",
     "output_type": "stream",
     "text": [
      "Valor propio 1: -0.5, Probabilidad: 0.5000\n",
      "Valor propio 2: 0.5, Probabilidad: 0.5000\n"
     ]
    },
    {
     "data": {
      "image/png": "[encoded data removed]",
      "text/plain": [
       "<Figure size 640x480 with 1 Axes>"
      ]
     },
     "metadata": {},
     "output_type": "display_data"
    }
   ],
   "source": [
    "import numpy as np\n",
    "import matplotlib.pyplot as plt\n",
    "\n",
    "Sx = 0.5 * np.array([[0, 1], [1, 0]], dtype=complex)\n",
    "\n",
    "spin_up = np.array([1, 0], dtype=complex)\n",
    "\n",
    "eigenvalues, eigenvectors = np.linalg.eigh(Sx)\n",
    "\n",
    "spin_up_normalized = spin_up / np.linalg.norm(spin_up)\n",
    "\n",
    "probabilities = [np.abs(np.vdot(eigenvector, spin_up_normalized))**2 for eigenvector in eigenvectors.T]\n",
    "\n",
    "for i, (eigenvalue, probability) in enumerate(zip(eigenvalues, probabilities)):\n",
    "    print(f\"Valor propio {i+1}: {eigenvalue}, Probabilidad: {probability:.4f}\")\n",
    "\n",
    "plt.bar(eigenvalues, probabilities)\n",
    "plt.xlabel('Valores propios de $S_x$')\n",
    "plt.ylabel('Probabilidad')\n",
    "plt.title('Distribución de probabilidad para los valores propios de $S_x$')\n",
    "plt.show()\n"
   ]
  },
  {
   "cell_type": "markdown",
   "id": "bd042ce8",
   "metadata": {},
   "source": [
    "# 4.4.1\n"
   ]
  },
  {
   "cell_type": "code",
   "execution_count": 8,
   "id": "c77e1e71",
   "metadata": {},
   "outputs": [
    {
     "name": "stdout",
     "output_type": "stream",
     "text": [
      "U1 es unitaria: True\n",
      "U2 es unitaria: True\n",
      "El producto U1 * U2 es unitario: True\n",
      "Producto U1 * U2:\n",
      " [[ 0.70710678+0.j -0.70710678+0.j]\n",
      " [ 0.70710678+0.j  0.70710678+0.j]]\n"
     ]
    }
   ],
   "source": [
    "import numpy as np\n",
    "\n",
    "U1 = np.array([[0, 1], [1, 0]], dtype=complex)\n",
    "U2 = (1/np.sqrt(2)) * np.array([[1, 1], [1, -1]], dtype=complex)\n",
    "\n",
    "def is_unitary(U):\n",
    "    identity = np.eye(U.shape[0])\n",
    "    return np.allclose(np.dot(U.conjugate().T, U), identity)\n",
    "\n",
    "print(\"U1 es unitaria:\", is_unitary(U1))\n",
    "print(\"U2 es unitaria:\", is_unitary(U2))\n",
    "\n",
    "U_product = np.dot(U1, U2)\n",
    "\n",
    "print(\"El producto U1 * U2 es unitario:\", is_unitary(U_product))\n",
    "\n",
    "print(\"Producto U1 * U2:\\n\", U_product)\n"
   ]
  },
  {
   "cell_type": "markdown",
   "id": "1b75d226",
   "metadata": {},
   "source": [
    "# 4.4.2"
   ]
  },
  {
   "cell_type": "code",
   "execution_count": 9,
   "id": "89b877a0",
   "metadata": {},
   "outputs": [
    {
     "name": "stdout",
     "output_type": "stream",
     "text": [
      "Estado del sistema después de tres pasos:\n",
      "[ 0.        +0.j         -0.70710678+0.70710678j  0.35355339+0.35355339j\n",
      "  0.        +0.j        ]\n",
      "Probabilidad de encontrar la bola cuántica en la posición 3: 0.2500\n"
     ]
    }
   ],
   "source": [
    "import numpy as np\n",
    "\n",
    "U = np.array([[0, 1/np.sqrt(2), 1/np.sqrt(2), 0],\n",
    "              [1j/np.sqrt(2), 0, 0, 1/np.sqrt(2)],\n",
    "              [1/np.sqrt(2), 0, 0, 0],\n",
    "              [0, 1/np.sqrt(2), -1/np.sqrt(2), 0]], dtype=complex)\n",
    "\n",
    "psi_0 = np.array([1, 0, 0, 0], dtype=complex)\n",
    "\n",
    "psi_1 = np.dot(U, psi_0) \n",
    "psi_2 = np.dot(U, psi_1)  \n",
    "psi_3 = np.dot(U, psi_2) \n",
    "\n",
    "print(\"Estado del sistema después de tres pasos:\")\n",
    "print(psi_3)\n",
    "\n",
    "prob_pos_3 = np.abs(psi_3[2])**2\n",
    "print(f\"Probabilidad de encontrar la bola cuántica en la posición 3: {prob_pos_3:.4f}\")\n"
   ]
  }
 ],
 "metadata": {
  "kernelspec": {
   "display_name": ".venv",
   "language": "python",
   "name": "python3"
  },
  "language_info": {
   "codemirror_mode": {
    "name": "ipython",
    "version": 3
   },
   "file_extension": ".py",
   "mimetype": "text/x-python",
   "name": "python",
   "nbconvert_exporter": "python",
   "pygments_lexer": "ipython3",
   "version": "3.12.0"
  }
 },
 "nbformat": 4,
 "nbformat_minor": 5
}
